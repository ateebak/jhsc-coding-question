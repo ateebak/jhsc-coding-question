{
 "cells": [
  {
   "cell_type": "markdown",
   "metadata": {},
   "source": [
    "# Reading lines in txt file"
   ]
  },
  {
   "cell_type": "code",
   "execution_count": 284,
   "metadata": {},
   "outputs": [],
   "source": [
    "with open('input.txt') as f:\n",
    "    lines = f.readlines()"
   ]
  },
  {
   "cell_type": "code",
   "execution_count": 285,
   "metadata": {},
   "outputs": [
    {
     "data": {
      "text/plain": [
       "['00100\\n',\n",
       " '10000\\n',\n",
       " '10011\\n',\n",
       " '00011\\n',\n",
       " '\\n',\n",
       " '0000000\\n',\n",
       " '1100110\\n',\n",
       " '1000000\\n',\n",
       " '0000011\\n',\n",
       " '1100000\\n',\n",
       " '\\n',\n",
       " '1000110\\n',\n",
       " '0010000\\n',\n",
       " '1010000\\n',\n",
       " '1000110\\n',\n",
       " '0010000\\n',\n",
       " '\\n',\n",
       " '1110000\\n',\n",
       " '0110000\\n',\n",
       " '0010011\\n',\n",
       " '1110000\\n',\n",
       " '0000100\\n',\n",
       " '0000000']"
      ]
     },
     "execution_count": 285,
     "metadata": {},
     "output_type": "execute_result"
    }
   ],
   "source": [
    "lines"
   ]
  },
  {
   "cell_type": "markdown",
   "metadata": {},
   "source": [
    "# Empty list to store matrices"
   ]
  },
  {
   "cell_type": "code",
   "execution_count": 286,
   "metadata": {},
   "outputs": [],
   "source": [
    "matrices = []\n",
    "matrix_iteration = []"
   ]
  },
  {
   "cell_type": "markdown",
   "metadata": {},
   "source": [
    "# Iterate over lines and append to list"
   ]
  },
  {
   "cell_type": "code",
   "execution_count": 287,
   "metadata": {},
   "outputs": [],
   "source": [
    "for line in lines:\n",
    "    if line == '\\n': # Check for blank line\n",
    "        matrices.append(matrix_iteration) # Add matrix to list of matrices\n",
    "        matrix_iteration = [] # Reset matrix iteration\n",
    "    else:\n",
    "        matrix_iteration.append(line.strip()) # Add line to matrix iteration\n",
    "\n",
    "## Add last matrix if file does not end with a blank line\n",
    "if matrix_iteration:\n",
    "    matrices.append(matrix_iteration)"
   ]
  },
  {
   "cell_type": "code",
   "execution_count": 288,
   "metadata": {},
   "outputs": [
    {
     "data": {
      "text/plain": [
       "[['00100', '10000', '10011', '00011'],\n",
       " ['0000000', '1100110', '1000000', '0000011', '1100000'],\n",
       " ['1000110', '0010000', '1010000', '1000110', '0010000'],\n",
       " ['1110000', '0110000', '0010011', '1110000', '0000100', '0000000']]"
      ]
     },
     "execution_count": 288,
     "metadata": {},
     "output_type": "execute_result"
    }
   ],
   "source": [
    "matrices"
   ]
  },
  {
   "cell_type": "markdown",
   "metadata": {},
   "source": [
    "### Split character in each line (to columns) and convert to int using map"
   ]
  },
  {
   "cell_type": "code",
   "execution_count": 289,
   "metadata": {},
   "outputs": [],
   "source": [
    "matrices = [[list(map(int, line)) for line in matrix] for matrix in matrices]"
   ]
  },
  {
   "cell_type": "code",
   "execution_count": 290,
   "metadata": {},
   "outputs": [
    {
     "data": {
      "text/plain": [
       "[[[0, 0, 1, 0, 0], [1, 0, 0, 0, 0], [1, 0, 0, 1, 1], [0, 0, 0, 1, 1]],\n",
       " [[0, 0, 0, 0, 0, 0, 0],\n",
       "  [1, 1, 0, 0, 1, 1, 0],\n",
       "  [1, 0, 0, 0, 0, 0, 0],\n",
       "  [0, 0, 0, 0, 0, 1, 1],\n",
       "  [1, 1, 0, 0, 0, 0, 0]],\n",
       " [[1, 0, 0, 0, 1, 1, 0],\n",
       "  [0, 0, 1, 0, 0, 0, 0],\n",
       "  [1, 0, 1, 0, 0, 0, 0],\n",
       "  [1, 0, 0, 0, 1, 1, 0],\n",
       "  [0, 0, 1, 0, 0, 0, 0]],\n",
       " [[1, 1, 1, 0, 0, 0, 0],\n",
       "  [0, 1, 1, 0, 0, 0, 0],\n",
       "  [0, 0, 1, 0, 0, 1, 1],\n",
       "  [1, 1, 1, 0, 0, 0, 0],\n",
       "  [0, 0, 0, 0, 1, 0, 0],\n",
       "  [0, 0, 0, 0, 0, 0, 0]]]"
      ]
     },
     "execution_count": 290,
     "metadata": {},
     "output_type": "execute_result"
    }
   ],
   "source": [
    "matrices"
   ]
  },
  {
   "cell_type": "markdown",
   "metadata": {},
   "source": [
    "# 1. Calculate the total number of islands in the matrix."
   ]
  },
  {
   "cell_type": "markdown",
   "metadata": {},
   "source": [
    "### Searching Neighbours (Function)"
   ]
  },
  {
   "cell_type": "code",
   "execution_count": 291,
   "metadata": {},
   "outputs": [],
   "source": [
    "def search_neighbours(matrix, row, column, searched):\n",
    "    # check if cell is within matrix\n",
    "    if row < 0 or row >= len(matrix) or column < 0 or column >= len(matrix[0]):\n",
    "        return\n",
    "    # check if cell is already searched or is 0\n",
    "    if searched[row][column] == True or matrix[row][column] == 0:\n",
    "        return\n",
    "    # mark cell as searched\n",
    "    searched[row][column] = True\n",
    "    # search neighbours\n",
    "    search_neighbours(matrix, row-1, column, searched)  # search up one row\n",
    "    search_neighbours(matrix, row+1, column, searched)  # search down one row\n",
    "    search_neighbours(matrix, row, column-1, searched)  # search left one column\n",
    "    search_neighbours(matrix, row, column+1, searched)  # search right one column"
   ]
  },
  {
   "cell_type": "markdown",
   "metadata": {},
   "source": [
    "### Counting Islands (Function)"
   ]
  },
  {
   "cell_type": "code",
   "execution_count": 292,
   "metadata": {},
   "outputs": [],
   "source": [
    "def count_islands(matrix):\n",
    "    # create a matrix for searched cells using list comprehension\n",
    "    searched = [[False for column in range(len(matrix[0]))] for row in range(len(matrix))]\n",
    "    # count of islands found\n",
    "    count = 0\n",
    "    # iterate through matrix\n",
    "    for row in range(len(matrix)):\n",
    "        for column in range(len(matrix[0])):\n",
    "            # check if cell is already searched\n",
    "            if searched[row][column] == False and matrix[row][column] == 1:\n",
    "                # search neighbouring cells\n",
    "                search_neighbours(matrix, row, column, searched)\n",
    "                # increment count when search is complete\n",
    "                count += 1\n",
    "    return count"
   ]
  },
  {
   "cell_type": "markdown",
   "metadata": {},
   "source": [
    "### Iterating through matrices and counting islands"
   ]
  },
  {
   "cell_type": "code",
   "execution_count": 293,
   "metadata": {},
   "outputs": [
    {
     "name": "stdout",
     "output_type": "stream",
     "text": [
      "Matrix 1 has 3 islands\n",
      "Matrix 2 has 4 islands\n",
      "Matrix 3 has 6 islands\n",
      "Matrix 4 has 3 islands\n"
     ]
    }
   ],
   "source": [
    "for _, matrix in enumerate(matrices):\n",
    "    print(f\"Matrix {_+1} has {count_islands(matrix)} islands\")"
   ]
  },
  {
   "cell_type": "markdown",
   "metadata": {},
   "source": [
    "# 2. Find the number of distinct islands"
   ]
  },
  {
   "cell_type": "markdown",
   "metadata": {},
   "source": [
    "### Modifying the search function to store the coordinates of the island in a list"
   ]
  },
  {
   "cell_type": "code",
   "execution_count": 294,
   "metadata": {},
   "outputs": [],
   "source": [
    "def search_neighbours_2(matrix, row, column, searched, matrix_coord):\n",
    "    # check if cell is within matrix\n",
    "    if row < 0 or row >= len(matrix) or column < 0 or column >= len(matrix[0]):\n",
    "        return\n",
    "    # check if cell is already searched or is 0\n",
    "    if searched[row][column] == True or matrix[row][column] == 0:\n",
    "        return\n",
    "    # mark cell as searched\n",
    "    searched[row][column] = True\n",
    "    # add cell to matrix_coord\n",
    "    matrix_coord.append((row, column))\n",
    "    # search neighbours\n",
    "    search_neighbours_2(matrix, row-1, column, searched, matrix_coord)  # search up one row\n",
    "    search_neighbours_2(matrix, row+1, column, searched, matrix_coord)  # search down one row\n",
    "    search_neighbours_2(matrix, row, column-1, searched, matrix_coord)  # search left one column\n",
    "    search_neighbours_2(matrix, row, column+1, searched, matrix_coord)  # search right one column"
   ]
  },
  {
   "cell_type": "markdown",
   "metadata": {},
   "source": [
    "### Normalizing the coordinates of the island to get the distinct islands (not rotated or reflected)"
   ]
  },
  {
   "cell_type": "code",
   "execution_count": 295,
   "metadata": {},
   "outputs": [],
   "source": [
    "def normalize_island_coordinates(matrix_coord):\n",
    "    # find minimum x and y\n",
    "    min_x, min_y = matrix_coord[0]\n",
    "    \n",
    "    for x, y in matrix_coord:\n",
    "        min_x = min(min_x, x) # update min_x if x is smaller\n",
    "        min_y = min(min_y, y) # update min_y if y is smaller\n",
    "    \n",
    "    normalized_coords = []\n",
    "    for x, y in matrix_coord:\n",
    "        normalized_coords.append((x - min_x, y - min_y)) # add normalized coordinates to list\n",
    "    \n",
    "    return normalized_coords"
   ]
  },
  {
   "cell_type": "markdown",
   "metadata": {},
   "source": [
    "### Modifying the count function to store the distinct islands in a set"
   ]
  },
  {
   "cell_type": "code",
   "execution_count": 296,
   "metadata": {},
   "outputs": [],
   "source": [
    "def count_distinct_islands(matrix):\n",
    "    # create a matrix for searched cells\n",
    "    searched = [[False for column in range(len(matrix[0]))] for row in range(len(matrix))]\n",
    "    # initialize set of island coordinates (to remove duplicates)\n",
    "    coordinates = set()\n",
    "    # iterate through matrix\n",
    "    for row in range(len(matrix)):\n",
    "        for column in range(len(matrix[0])):\n",
    "            # check if cell is already searched\n",
    "            if searched[row][column] == False and matrix[row][column] == 1:\n",
    "                # list for island coordinates\n",
    "                matrix_coord = []\n",
    "                # search neighbours\n",
    "                search_neighbours_2(matrix, row, column, searched, matrix_coord)\n",
    "                # normalize coordinates to get rid of rotation and reflection\n",
    "                normalized_coords = normalize_island_coordinates(matrix_coord)\n",
    "                # sort to get rid of different orderings\n",
    "                normalized_coords.sort()\n",
    "                # add normalized_coords to set of coordinates\n",
    "                coordinates.add(tuple(normalized_coords))\n",
    "    return len(coordinates) # return number of distinct islands found in matrix (length of set)"
   ]
  },
  {
   "cell_type": "markdown",
   "metadata": {},
   "source": [
    "### Iterating through matrices and counting distinct islands"
   ]
  },
  {
   "cell_type": "code",
   "execution_count": 297,
   "metadata": {},
   "outputs": [
    {
     "name": "stdout",
     "output_type": "stream",
     "text": [
      "Matrix 1 has 3 distinct islands\n",
      "Matrix 2 has 2 distinct islands\n",
      "Matrix 3 has 3 distinct islands\n",
      "Matrix 4 has 3 distinct islands\n"
     ]
    }
   ],
   "source": [
    "for _, matrix in enumerate(matrices):\n",
    "    count_distinct = count_distinct_islands(matrix)\n",
    "    print(f\"Matrix {_+1} has {count_distinct} distinct islands\")"
   ]
  },
  {
   "cell_type": "markdown",
   "metadata": {},
   "source": [
    "# 3. Find the number of closed islands."
   ]
  },
  {
   "cell_type": "markdown",
   "metadata": {},
   "source": [
    "### Modifying the search function to check if the island is closed (not touching the edge)"
   ]
  },
  {
   "cell_type": "code",
   "execution_count": 298,
   "metadata": {},
   "outputs": [],
   "source": [
    "def search_neighbours_3(matrix, row, column, searched, closed):\n",
    "    # check if cell is within matrix\n",
    "    if row < 0 or row >= len(matrix) or column < 0 or column >= len(matrix[0]):\n",
    "        return\n",
    "    # check if cell is already searched or is 0\n",
    "    if searched[row][column] == True or matrix[row][column] == 0:\n",
    "        return\n",
    "    # mark cell as searched\n",
    "    searched[row][column] = True\n",
    "    # check if cell is on the edge (left edge OR right edge OR top edge OR bottom edge)\n",
    "    if row == 0 or row == len(matrix)-1 or column == 0 or column == len(matrix[0])-1:\n",
    "        closed[0] = False\n",
    "    # search neighbours\n",
    "    search_neighbours_3(matrix, row-1, column, searched, closed)  # search up one row\n",
    "    search_neighbours_3(matrix, row+1, column, searched, closed)  # search down one row\n",
    "    search_neighbours_3(matrix, row, column-1, searched, closed)  # search left one column\n",
    "    search_neighbours_3(matrix, row, column+1, searched, closed)  # search right one column"
   ]
  },
  {
   "cell_type": "markdown",
   "metadata": {},
   "source": [
    "### Modify the count function to count the number of closed islands (not touching the edge)"
   ]
  },
  {
   "cell_type": "code",
   "execution_count": 299,
   "metadata": {},
   "outputs": [],
   "source": [
    "def count_closed_islands(matrix):\n",
    "    # create a matrix for searched cells\n",
    "    searched = [[False for column in range(len(matrix[0]))] for row in range(len(matrix))]\n",
    "    # count of closed islands\n",
    "    count = 0\n",
    "    # iterate through matrix\n",
    "    for row in range(len(matrix)):\n",
    "        for column in range(len(matrix[0])):\n",
    "            # check if cell is already searched\n",
    "            if searched[row][column] == False and matrix[row][column] == 1:\n",
    "                # closed flag set to True by default.\n",
    "                closed = [True] # using list to pass by reference as mutable (boolean is immutable)\n",
    "                # search neighbours\n",
    "                search_neighbours_3(matrix, row, column, searched, closed)\n",
    "                # increment count if closed is True\n",
    "                if closed[0] == True:\n",
    "                    count += 1\n",
    "    return count"
   ]
  },
  {
   "cell_type": "code",
   "execution_count": 300,
   "metadata": {},
   "outputs": [
    {
     "name": "stdout",
     "output_type": "stream",
     "text": [
      "Matrix 1 has 0 closed islands\n",
      "Matrix 2 has 1 closed islands\n",
      "Matrix 3 has 2 closed islands\n",
      "Matrix 4 has 1 closed islands\n"
     ]
    }
   ],
   "source": [
    "for _, matrix in enumerate(matrices):\n",
    "    print(f\"Matrix {_+1} has {count_closed_islands(matrix)} closed islands\")"
   ]
  },
  {
   "cell_type": "markdown",
   "metadata": {},
   "source": [
    "# Results"
   ]
  },
  {
   "cell_type": "code",
   "execution_count": 301,
   "metadata": {},
   "outputs": [
    {
     "name": "stdout",
     "output_type": "stream",
     "text": [
      "Matrix 1 has 3 islands, 3 distinct islands, and 0 closed islands\n",
      "Matrix 2 has 4 islands, 2 distinct islands, and 1 closed islands\n",
      "Matrix 3 has 6 islands, 3 distinct islands, and 2 closed islands\n",
      "Matrix 4 has 3 islands, 3 distinct islands, and 1 closed islands\n"
     ]
    }
   ],
   "source": [
    "for _, matrix in enumerate(matrices):\n",
    "    print(f\"Matrix {_+1} has {count_islands(matrix)} islands, {count_distinct_islands(matrix)} distinct islands, and {count_closed_islands(matrix)} closed islands\")"
   ]
  }
 ],
 "metadata": {
  "kernelspec": {
   "display_name": "venv",
   "language": "python",
   "name": "python3"
  },
  "language_info": {
   "codemirror_mode": {
    "name": "ipython",
    "version": 3
   },
   "file_extension": ".py",
   "mimetype": "text/x-python",
   "name": "python",
   "nbconvert_exporter": "python",
   "pygments_lexer": "ipython3",
   "version": "3.10.1"
  },
  "orig_nbformat": 4
 },
 "nbformat": 4,
 "nbformat_minor": 2
}
